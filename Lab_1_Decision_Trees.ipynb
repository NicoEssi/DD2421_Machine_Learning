{
  "nbformat": 4,
  "nbformat_minor": 0,
  "metadata": {
    "colab": {
      "name": "Lab_1_Decision_Trees.ipynb",
      "provenance": [],
      "collapsed_sections": [],
      "authorship_tag": "ABX9TyOZ1IECVnbRWDMkKyXkIEZc",
      "include_colab_link": true
    },
    "kernelspec": {
      "name": "python3",
      "display_name": "Python 3"
    }
  },
  "cells": [
    {
      "cell_type": "markdown",
      "metadata": {
        "id": "view-in-github",
        "colab_type": "text"
      },
      "source": [
        "<a href=\"https://colab.research.google.com/github/NicoEssi/DD2421_Machine_Learning/blob/master/Lab_1_Decision_Trees.ipynb\" target=\"_parent\"><img src=\"https://colab.research.google.com/assets/colab-badge.svg\" alt=\"Open In Colab\"/></a>"
      ]
    },
    {
      "cell_type": "markdown",
      "metadata": {
        "id": "ZYHQ31mgEbby",
        "colab_type": "text"
      },
      "source": [
        "### Course: DD2421, Machine Learning\n",
        "### Group: Nicolas Essipova & Mikel Zhobro\n",
        "### Lab 1: Decision Trees\n",
        "\n",
        "\n",
        "\n",
        "---\n",
        "\n"
      ]
    },
    {
      "cell_type": "code",
      "metadata": {
        "id": "bxg4BOcoE4ek",
        "colab_type": "code",
        "colab": {
          "base_uri": "https://localhost:8080/",
          "height": 391
        },
        "outputId": "af075f05-4347-4b55-cef7-53601e2a4912"
      },
      "source": [
        "# Files\n",
        "!wget https://raw.githubusercontent.com/NicoEssi/DD2421_Machine_Learning/master/monkdata.py\n",
        "!wget https://raw.githubusercontent.com/NicoEssi/DD2421_Machine_Learning/master/dtree.py\n",
        "\n",
        "# Dependencies\n",
        "import matplotlib.pyplot as plt\n",
        "import monkdata as m\n",
        "import random\n",
        "import dtree as d\n",
        "import numpy as np\n",
        "import pandas as pd\n",
        "\n",
        "# Data\n",
        "monks = [m.monk1, m.monk2, m.monk3]\n",
        "monks_test = [m.monk1test, m.monk2test, m.monk3test]"
      ],
      "execution_count": 1,
      "outputs": [
        {
          "output_type": "stream",
          "text": [
            "--2020-01-30 17:49:33--  https://raw.githubusercontent.com/NicoEssi/DD2421_Machine_Learning/master/monkdata.py\n",
            "Resolving raw.githubusercontent.com (raw.githubusercontent.com)... 151.101.0.133, 151.101.64.133, 151.101.128.133, ...\n",
            "Connecting to raw.githubusercontent.com (raw.githubusercontent.com)|151.101.0.133|:443... connected.\n",
            "HTTP request sent, awaiting response... 200 OK\n",
            "Length: 70459 (69K) [text/plain]\n",
            "Saving to: ‘monkdata.py’\n",
            "\n",
            "\rmonkdata.py           0%[                    ]       0  --.-KB/s               \rmonkdata.py         100%[===================>]  68.81K  --.-KB/s    in 0.02s   \n",
            "\n",
            "2020-01-30 17:49:33 (4.09 MB/s) - ‘monkdata.py’ saved [70459/70459]\n",
            "\n",
            "--2020-01-30 17:49:35--  https://raw.githubusercontent.com/NicoEssi/DD2421_Machine_Learning/master/dtree.py\n",
            "Resolving raw.githubusercontent.com (raw.githubusercontent.com)... 151.101.0.133, 151.101.64.133, 151.101.128.133, ...\n",
            "Connecting to raw.githubusercontent.com (raw.githubusercontent.com)|151.101.0.133|:443... connected.\n",
            "HTTP request sent, awaiting response... 200 OK\n",
            "Length: 3901 (3.8K) [text/plain]\n",
            "Saving to: ‘dtree.py’\n",
            "\n",
            "dtree.py            100%[===================>]   3.81K  --.-KB/s    in 0s      \n",
            "\n",
            "2020-01-30 17:49:35 (96.8 MB/s) - ‘dtree.py’ saved [3901/3901]\n",
            "\n"
          ],
          "name": "stdout"
        }
      ]
    },
    {
      "cell_type": "markdown",
      "metadata": {
        "id": "uVdtUp6-DAVf",
        "colab_type": "text"
      },
      "source": [
        "# Assignment 1:\n",
        "\n",
        "Define a function entropy which\n",
        "calculates the entropy of a dataset. Import this file along with the\n",
        "monks datasets and use it to calculate the entropy of the training\n",
        "datasets."
      ]
    },
    {
      "cell_type": "code",
      "metadata": {
        "id": "WLBrRJGrDId3",
        "colab_type": "code",
        "colab": {
          "base_uri": "https://localhost:8080/",
          "height": 68
        },
        "outputId": "1ce3962c-68e9-4f0e-cc78-095b949029c4"
      },
      "source": [
        "def compute_entropy():\n",
        "  # Computing entropy for each dataset\n",
        "  for i in range(3):\n",
        "    print(\"Entropy in MONK-\" + str(i) + \": \"+ str(d.entropy(monks[i])))\n",
        "\n",
        "compute_entropy()"
      ],
      "execution_count": 2,
      "outputs": [
        {
          "output_type": "stream",
          "text": [
            "Entropy in MONK-0: 1.0\n",
            "Entropy in MONK-1: 0.957117428264771\n",
            "Entropy in MONK-2: 0.9998061328047111\n"
          ],
          "name": "stdout"
        }
      ]
    },
    {
      "cell_type": "markdown",
      "metadata": {
        "id": "zE45RV57DMu6",
        "colab_type": "text"
      },
      "source": [
        "# Assignment 3:\n",
        "\n",
        " Use the function averageGain (defined in dtree.py)\n",
        "to calculate the expected information gain corresponding to each of\n",
        "the six attributes. Note that the attributes are represented as instances of the class Attribute (defined in monkdata.py) which you\n",
        "can access via m.attributes[0], ..., m.attributes[5]. Based on\n",
        "the results, which attribute should be used for splitting the examples\n",
        "at the root node?"
      ]
    },
    {
      "cell_type": "code",
      "metadata": {
        "id": "scR65PQPUxUt",
        "colab_type": "code",
        "colab": {
          "base_uri": "https://localhost:8080/",
          "height": 142
        },
        "outputId": "1b83cb20-bcc3-4e0a-d7d3-9dbebcc5686a"
      },
      "source": [
        "def compute_gain():\n",
        "  gains = pd.DataFrame(columns = ['Dataset','a1', 'a2', 'a3','a4', 'a5', 'a6'])\n",
        "  \n",
        "  # Computing average gain for each dataset\n",
        "  for i in range(3):\n",
        "    i_gain = {}\n",
        "    i_gain[\"Dataset\"] = [\"MONK-{}\".format(i+1)]\n",
        "    \n",
        "    # Computing average gain for each attribute\n",
        "    for j in range(6):\n",
        "      i_gain[\"a{}\".format(j+1)] = round(d.averageGain(monks[i], m.attributes[j]), 10)\n",
        "\n",
        "    # Appending results to dataframe\n",
        "    i_df = pd.DataFrame(i_gain)\n",
        "    gains = gains.append(i_df)\n",
        "\n",
        "  return gains\n",
        "\n",
        "\n",
        "compute_gain()"
      ],
      "execution_count": 45,
      "outputs": [
        {
          "output_type": "execute_result",
          "data": {
            "text/html": [
              "<div>\n",
              "<style scoped>\n",
              "    .dataframe tbody tr th:only-of-type {\n",
              "        vertical-align: middle;\n",
              "    }\n",
              "\n",
              "    .dataframe tbody tr th {\n",
              "        vertical-align: top;\n",
              "    }\n",
              "\n",
              "    .dataframe thead th {\n",
              "        text-align: right;\n",
              "    }\n",
              "</style>\n",
              "<table border=\"1\" class=\"dataframe\">\n",
              "  <thead>\n",
              "    <tr style=\"text-align: right;\">\n",
              "      <th></th>\n",
              "      <th>Dataset</th>\n",
              "      <th>a1</th>\n",
              "      <th>a2</th>\n",
              "      <th>a3</th>\n",
              "      <th>a4</th>\n",
              "      <th>a5</th>\n",
              "      <th>a6</th>\n",
              "    </tr>\n",
              "  </thead>\n",
              "  <tbody>\n",
              "    <tr>\n",
              "      <th>0</th>\n",
              "      <td>MONK-1</td>\n",
              "      <td>0.075273</td>\n",
              "      <td>0.005838</td>\n",
              "      <td>0.004708</td>\n",
              "      <td>0.026312</td>\n",
              "      <td>0.287031</td>\n",
              "      <td>0.000758</td>\n",
              "    </tr>\n",
              "    <tr>\n",
              "      <th>0</th>\n",
              "      <td>MONK-2</td>\n",
              "      <td>0.003756</td>\n",
              "      <td>0.002458</td>\n",
              "      <td>0.001056</td>\n",
              "      <td>0.015664</td>\n",
              "      <td>0.017277</td>\n",
              "      <td>0.006248</td>\n",
              "    </tr>\n",
              "    <tr>\n",
              "      <th>0</th>\n",
              "      <td>MONK-3</td>\n",
              "      <td>0.007121</td>\n",
              "      <td>0.293736</td>\n",
              "      <td>0.000831</td>\n",
              "      <td>0.002892</td>\n",
              "      <td>0.255912</td>\n",
              "      <td>0.007077</td>\n",
              "    </tr>\n",
              "  </tbody>\n",
              "</table>\n",
              "</div>"
            ],
            "text/plain": [
              "  Dataset        a1        a2        a3        a4        a5        a6\n",
              "0  MONK-1  0.075273  0.005838  0.004708  0.026312  0.287031  0.000758\n",
              "0  MONK-2  0.003756  0.002458  0.001056  0.015664  0.017277  0.006248\n",
              "0  MONK-3  0.007121  0.293736  0.000831  0.002892  0.255912  0.007077"
            ]
          },
          "metadata": {
            "tags": []
          },
          "execution_count": 45
        }
      ]
    },
    {
      "cell_type": "markdown",
      "metadata": {
        "id": "e7sCqw79Dm3s",
        "colab_type": "text"
      },
      "source": [
        "# Assignment 5:\n",
        "\n",
        "Build the full decision trees for all three Monk\n",
        "datasets using buildTree. Then, use the function check to measure the performance of the decision tree on both the training and\n",
        "test datasets.\n",
        "For example to built a tree for monk1 and compute the performance\n",
        "on the test data you could use\n",
        "\n",
        "import monkdata as m\n",
        "\n",
        "import dtree as d\n",
        "\n",
        "t=d.buildTree(m.monk1, m.attributes);\n",
        "\n",
        "print(d.check(t, m.monk1test))\n",
        "\n",
        "```\n",
        "import monkdata as m\n",
        "import dtree as d\n",
        "t=d.buildTree(m.monk1, m.attributes);\n",
        "print(d.check(t, m.monk1test))\n",
        "```\n",
        "\n",
        "Compute the train and test set errors for the three Monk datasets\n",
        "for the full trees. Were your assumptions about the datasets correct?\n",
        "Explain the results you get for the training and test datasets."
      ]
    },
    {
      "cell_type": "code",
      "metadata": {
        "id": "XoCs8u7Mg4mF",
        "colab_type": "code",
        "colab": {
          "base_uri": "https://localhost:8080/",
          "height": 142
        },
        "outputId": "ad719bfe-a513-41d9-c7a7-da7d7c090589"
      },
      "source": [
        "def compute_errors():\n",
        "  errors = pd.DataFrame(columns = ['Dataset', 'Error (train)', 'Error (test)'])\n",
        "\n",
        "  # Computing error for each dataset\n",
        "  for i in range(3):\n",
        "    i_error = {}\n",
        "    i_error[\"Dataset\"] = [\"MONK-{}\".format(i+1)]\n",
        "\n",
        "    # Error for training set\n",
        "    i_error[\"Error (train)\"] = 1 - d.check(d.buildTree(monks[i], m.attributes),\n",
        "                                           monks[i])\n",
        "    \n",
        "    # Error for test set\n",
        "    i_error[\"Error (test)\"] = 1 - d.check(d.buildTree(monks[i], m.attributes),\n",
        "                                          monks_test[i])\n",
        "    \n",
        "    # Appending results to dataframe\n",
        "    df_error = pd.DataFrame(i_error)\n",
        "    errors = errors.append(df_error)\n",
        "\n",
        "  return errors\n",
        "\n",
        "\n",
        "compute_errors()"
      ],
      "execution_count": 8,
      "outputs": [
        {
          "output_type": "execute_result",
          "data": {
            "text/html": [
              "<div>\n",
              "<style scoped>\n",
              "    .dataframe tbody tr th:only-of-type {\n",
              "        vertical-align: middle;\n",
              "    }\n",
              "\n",
              "    .dataframe tbody tr th {\n",
              "        vertical-align: top;\n",
              "    }\n",
              "\n",
              "    .dataframe thead th {\n",
              "        text-align: right;\n",
              "    }\n",
              "</style>\n",
              "<table border=\"1\" class=\"dataframe\">\n",
              "  <thead>\n",
              "    <tr style=\"text-align: right;\">\n",
              "      <th></th>\n",
              "      <th>Dataset</th>\n",
              "      <th>Error (train)</th>\n",
              "      <th>Error (test)</th>\n",
              "    </tr>\n",
              "  </thead>\n",
              "  <tbody>\n",
              "    <tr>\n",
              "      <th>0</th>\n",
              "      <td>MONK-1</td>\n",
              "      <td>0.0</td>\n",
              "      <td>0.171296</td>\n",
              "    </tr>\n",
              "    <tr>\n",
              "      <th>0</th>\n",
              "      <td>MONK-2</td>\n",
              "      <td>0.0</td>\n",
              "      <td>0.307870</td>\n",
              "    </tr>\n",
              "    <tr>\n",
              "      <th>0</th>\n",
              "      <td>MONK-3</td>\n",
              "      <td>0.0</td>\n",
              "      <td>0.055556</td>\n",
              "    </tr>\n",
              "  </tbody>\n",
              "</table>\n",
              "</div>"
            ],
            "text/plain": [
              "  Dataset  Error (train)  Error (test)\n",
              "0  MONK-1            0.0      0.171296\n",
              "0  MONK-2            0.0      0.307870\n",
              "0  MONK-3            0.0      0.055556"
            ]
          },
          "metadata": {
            "tags": []
          },
          "execution_count": 8
        }
      ]
    },
    {
      "cell_type": "markdown",
      "metadata": {
        "id": "H2APnLnQERzx",
        "colab_type": "text"
      },
      "source": [
        "# Assignment 7:\n",
        "\n",
        "Evaluate the effect pruning has on the test error for\n",
        "the monk1 and monk3 datasets, in particular determine the optimal\n",
        "partition into training and pruning by optimizing the parameter\n",
        "fraction. Plot the classification error on the test sets as a function\n",
        "of the parameter fraction ∈ {0.3, 0.4, 0.5, 0.6, 0.7, 0.8}.\n",
        "\n",
        "Note that the split of the data is random. We therefore need to\n",
        "compute the statistics over several runs of the split to be able to draw\n",
        "any conclusions. Reasonable statistics includes mean and a measure\n",
        "of the spread. Do remember to print axes labels, legends and data\n",
        "points as you will not pass without them."
      ]
    },
    {
      "cell_type": "code",
      "metadata": {
        "id": "zni5zp1iEY7p",
        "colab_type": "code",
        "colab": {}
      },
      "source": [
        ""
      ],
      "execution_count": 0,
      "outputs": []
    },
    {
      "cell_type": "markdown",
      "metadata": {
        "id": "ICkHiSviEZVM",
        "colab_type": "text"
      },
      "source": [
        "\n",
        "\n",
        "---\n",
        "\n"
      ]
    }
  ]
}