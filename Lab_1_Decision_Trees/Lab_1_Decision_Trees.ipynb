{
  "nbformat": 4,
  "nbformat_minor": 0,
  "metadata": {
    "colab": {
      "name": "Lab_1_Decision_Trees.ipynb",
      "provenance": [],
      "collapsed_sections": [],
      "authorship_tag": "ABX9TyOyyxskIAQD1FYfpTzlB8Yx",
      "include_colab_link": true
    },
    "kernelspec": {
      "name": "python3",
      "display_name": "Python 3"
    }
  },
  "cells": [
    {
      "cell_type": "markdown",
      "metadata": {
        "id": "view-in-github",
        "colab_type": "text"
      },
      "source": [
        "<a href=\"https://colab.research.google.com/github/NicoEssi/DD2421_Machine_Learning/blob/master/Lab_1_Decision_Trees.ipynb\" target=\"_parent\"><img src=\"https://colab.research.google.com/assets/colab-badge.svg\" alt=\"Open In Colab\"/></a>"
      ]
    },
    {
      "cell_type": "markdown",
      "metadata": {
        "id": "ZYHQ31mgEbby",
        "colab_type": "text"
      },
      "source": [
        "### Course: DD2421, Machine Learning\n",
        "### Group: Nicolas Essipova & Mikel Zhobro\n",
        "### Lab 1: Decision Trees\n",
        "\n",
        "\n",
        "\n",
        "---\n",
        "\n"
      ]
    },
    {
      "cell_type": "code",
      "metadata": {
        "id": "bxg4BOcoE4ek",
        "colab_type": "code",
        "colab": {
          "base_uri": "https://localhost:8080/",
          "height": 391
        },
        "outputId": "7e77ebb9-db96-4dc7-b013-276ae7ec8e89"
      },
      "source": [
        "# Files\n",
        "!wget https://raw.githubusercontent.com/NicoEssi/DD2421_Machine_Learning/master/monkdata.py\n",
        "!wget https://raw.githubusercontent.com/NicoEssi/DD2421_Machine_Learning/master/dtree.py\n",
        "\n",
        "# Dependencies\n",
        "import matplotlib.pyplot as plt\n",
        "import monkdata as m\n",
        "import random\n",
        "import dtree as d\n",
        "import numpy as np\n",
        "import pandas as pd\n",
        "\n",
        "# Data\n",
        "monks = [m.monk1, m.monk2, m.monk3]\n",
        "monks_test = [m.monk1test, m.monk2test, m.monk3test]"
      ],
      "execution_count": 1,
      "outputs": [
        {
          "output_type": "stream",
          "text": [
            "--2020-01-31 15:54:40--  https://raw.githubusercontent.com/NicoEssi/DD2421_Machine_Learning/master/monkdata.py\n",
            "Resolving raw.githubusercontent.com (raw.githubusercontent.com)... 151.101.0.133, 151.101.64.133, 151.101.128.133, ...\n",
            "Connecting to raw.githubusercontent.com (raw.githubusercontent.com)|151.101.0.133|:443... connected.\n",
            "HTTP request sent, awaiting response... 200 OK\n",
            "Length: 70459 (69K) [text/plain]\n",
            "Saving to: ‘monkdata.py’\n",
            "\n",
            "\rmonkdata.py           0%[                    ]       0  --.-KB/s               \rmonkdata.py         100%[===================>]  68.81K  --.-KB/s    in 0.02s   \n",
            "\n",
            "2020-01-31 15:54:40 (4.07 MB/s) - ‘monkdata.py’ saved [70459/70459]\n",
            "\n",
            "--2020-01-31 15:54:41--  https://raw.githubusercontent.com/NicoEssi/DD2421_Machine_Learning/master/dtree.py\n",
            "Resolving raw.githubusercontent.com (raw.githubusercontent.com)... 151.101.0.133, 151.101.64.133, 151.101.128.133, ...\n",
            "Connecting to raw.githubusercontent.com (raw.githubusercontent.com)|151.101.0.133|:443... connected.\n",
            "HTTP request sent, awaiting response... 200 OK\n",
            "Length: 3901 (3.8K) [text/plain]\n",
            "Saving to: ‘dtree.py’\n",
            "\n",
            "dtree.py            100%[===================>]   3.81K  --.-KB/s    in 0s      \n",
            "\n",
            "2020-01-31 15:54:41 (91.7 MB/s) - ‘dtree.py’ saved [3901/3901]\n",
            "\n"
          ],
          "name": "stdout"
        }
      ]
    },
    {
      "cell_type": "markdown",
      "metadata": {
        "id": "uVdtUp6-DAVf",
        "colab_type": "text"
      },
      "source": [
        "# Assignment 1:\n",
        "\n",
        "Define a function entropy which\n",
        "calculates the entropy of a dataset. Import this file along with the\n",
        "monks datasets and use it to calculate the entropy of the training\n",
        "datasets."
      ]
    },
    {
      "cell_type": "code",
      "metadata": {
        "id": "WLBrRJGrDId3",
        "colab_type": "code",
        "colab": {
          "base_uri": "https://localhost:8080/",
          "height": 68
        },
        "outputId": "66fc3e37-570b-48e5-ec73-124abaf15c04"
      },
      "source": [
        "def compute_entropy():\n",
        "  # Computing entropy for each dataset\n",
        "  for i in range(3):\n",
        "    print(\"Entropy in MONK-\" + str(i) + \": \"+ str(d.entropy(monks[i])))\n",
        "\n",
        "compute_entropy()"
      ],
      "execution_count": 4,
      "outputs": [
        {
          "output_type": "stream",
          "text": [
            "Entropy in MONK-0: 1.0\n",
            "Entropy in MONK-1: 0.957117428264771\n",
            "Entropy in MONK-2: 0.9998061328047111\n"
          ],
          "name": "stdout"
        }
      ]
    },
    {
      "cell_type": "markdown",
      "metadata": {
        "id": "zE45RV57DMu6",
        "colab_type": "text"
      },
      "source": [
        "# Assignment 3:\n",
        "\n",
        " Use the function averageGain (defined in dtree.py)\n",
        "to calculate the expected information gain corresponding to each of\n",
        "the six attributes. Note that the attributes are represented as instances of the class Attribute (defined in monkdata.py) which you\n",
        "can access via m.attributes[0], ..., m.attributes[5]. Based on\n",
        "the results, which attribute should be used for splitting the examples\n",
        "at the root node?"
      ]
    },
    {
      "cell_type": "code",
      "metadata": {
        "id": "scR65PQPUxUt",
        "colab_type": "code",
        "colab": {
          "base_uri": "https://localhost:8080/",
          "height": 142
        },
        "outputId": "a4970a07-2dd2-42f2-c6d0-6b24e0821f3a"
      },
      "source": [
        "def compute_gain():\n",
        "  gains = pd.DataFrame(columns = ['Dataset','a1', 'a2', 'a3','a4', 'a5', 'a6'])\n",
        "  \n",
        "  # Computing average gain for each dataset\n",
        "  for i in range(3):\n",
        "    i_gain = {}\n",
        "    i_gain[\"Dataset\"] = [\"MONK-{}\".format(i+1)]\n",
        "    \n",
        "    # Computing average gain for each attribute\n",
        "    for j in range(6):\n",
        "      i_gain[\"a{}\".format(j+1)] = round(d.averageGain(monks[i], m.attributes[j]), 10)\n",
        "\n",
        "    # Appending results to dataframe\n",
        "    i_df = pd.DataFrame(i_gain)\n",
        "    gains = gains.append(i_df)\n",
        "\n",
        "  return gains\n",
        "\n",
        "\n",
        "compute_gain()"
      ],
      "execution_count": 5,
      "outputs": [
        {
          "output_type": "execute_result",
          "data": {
            "text/html": [
              "<div>\n",
              "<style scoped>\n",
              "    .dataframe tbody tr th:only-of-type {\n",
              "        vertical-align: middle;\n",
              "    }\n",
              "\n",
              "    .dataframe tbody tr th {\n",
              "        vertical-align: top;\n",
              "    }\n",
              "\n",
              "    .dataframe thead th {\n",
              "        text-align: right;\n",
              "    }\n",
              "</style>\n",
              "<table border=\"1\" class=\"dataframe\">\n",
              "  <thead>\n",
              "    <tr style=\"text-align: right;\">\n",
              "      <th></th>\n",
              "      <th>Dataset</th>\n",
              "      <th>a1</th>\n",
              "      <th>a2</th>\n",
              "      <th>a3</th>\n",
              "      <th>a4</th>\n",
              "      <th>a5</th>\n",
              "      <th>a6</th>\n",
              "    </tr>\n",
              "  </thead>\n",
              "  <tbody>\n",
              "    <tr>\n",
              "      <th>0</th>\n",
              "      <td>MONK-1</td>\n",
              "      <td>0.075273</td>\n",
              "      <td>0.005838</td>\n",
              "      <td>0.004708</td>\n",
              "      <td>0.026312</td>\n",
              "      <td>0.287031</td>\n",
              "      <td>0.000758</td>\n",
              "    </tr>\n",
              "    <tr>\n",
              "      <th>0</th>\n",
              "      <td>MONK-2</td>\n",
              "      <td>0.003756</td>\n",
              "      <td>0.002458</td>\n",
              "      <td>0.001056</td>\n",
              "      <td>0.015664</td>\n",
              "      <td>0.017277</td>\n",
              "      <td>0.006248</td>\n",
              "    </tr>\n",
              "    <tr>\n",
              "      <th>0</th>\n",
              "      <td>MONK-3</td>\n",
              "      <td>0.007121</td>\n",
              "      <td>0.293736</td>\n",
              "      <td>0.000831</td>\n",
              "      <td>0.002892</td>\n",
              "      <td>0.255912</td>\n",
              "      <td>0.007077</td>\n",
              "    </tr>\n",
              "  </tbody>\n",
              "</table>\n",
              "</div>"
            ],
            "text/plain": [
              "  Dataset        a1        a2        a3        a4        a5        a6\n",
              "0  MONK-1  0.075273  0.005838  0.004708  0.026312  0.287031  0.000758\n",
              "0  MONK-2  0.003756  0.002458  0.001056  0.015664  0.017277  0.006248\n",
              "0  MONK-3  0.007121  0.293736  0.000831  0.002892  0.255912  0.007077"
            ]
          },
          "metadata": {
            "tags": []
          },
          "execution_count": 5
        }
      ]
    },
    {
      "cell_type": "markdown",
      "metadata": {
        "id": "e7sCqw79Dm3s",
        "colab_type": "text"
      },
      "source": [
        "# Assignment 5:\n",
        "\n",
        "Build the full decision trees for all three Monk\n",
        "datasets using buildTree. Then, use the function check to measure the performance of the decision tree on both the training and\n",
        "test datasets.\n",
        "For example to built a tree for monk1 and compute the performance\n",
        "on the test data you could use\n",
        "\n",
        "```\n",
        "import monkdata as m\n",
        "import dtree as d\n",
        "t=d.buildTree(m.monk1, m.attributes);\n",
        "print(d.check(t, m.monk1test))\n",
        "```\n",
        "\n",
        "Compute the train and test set errors for the three Monk datasets\n",
        "for the full trees. Were your assumptions about the datasets correct?\n",
        "Explain the results you get for the training and test datasets."
      ]
    },
    {
      "cell_type": "code",
      "metadata": {
        "id": "XoCs8u7Mg4mF",
        "colab_type": "code",
        "colab": {
          "base_uri": "https://localhost:8080/",
          "height": 142
        },
        "outputId": "7aaf45f4-608c-4d31-f647-d4809a3076bc"
      },
      "source": [
        "def compute_errors():\n",
        "  errors = pd.DataFrame(columns = ['Dataset', 'Error (train)', 'Error (test)'])\n",
        "\n",
        "  # Computing error for each dataset\n",
        "  for i in range(3):\n",
        "    i_error = {}\n",
        "    i_error[\"Dataset\"] = [\"MONK-{}\".format(i+1)]\n",
        "\n",
        "    # Error for training set\n",
        "    i_error[\"Error (train)\"] = 1 - d.check(d.buildTree(monks[i], m.attributes),\n",
        "                                           monks[i])\n",
        "    \n",
        "    # Error for test set\n",
        "    i_error[\"Error (test)\"] = 1 - d.check(d.buildTree(monks[i], m.attributes),\n",
        "                                          monks_test[i])\n",
        "    \n",
        "    # Appending results to dataframe\n",
        "    df_error = pd.DataFrame(i_error)\n",
        "    errors = errors.append(df_error)\n",
        "\n",
        "  return errors\n",
        "\n",
        "\n",
        "compute_errors()"
      ],
      "execution_count": 6,
      "outputs": [
        {
          "output_type": "execute_result",
          "data": {
            "text/html": [
              "<div>\n",
              "<style scoped>\n",
              "    .dataframe tbody tr th:only-of-type {\n",
              "        vertical-align: middle;\n",
              "    }\n",
              "\n",
              "    .dataframe tbody tr th {\n",
              "        vertical-align: top;\n",
              "    }\n",
              "\n",
              "    .dataframe thead th {\n",
              "        text-align: right;\n",
              "    }\n",
              "</style>\n",
              "<table border=\"1\" class=\"dataframe\">\n",
              "  <thead>\n",
              "    <tr style=\"text-align: right;\">\n",
              "      <th></th>\n",
              "      <th>Dataset</th>\n",
              "      <th>Error (train)</th>\n",
              "      <th>Error (test)</th>\n",
              "    </tr>\n",
              "  </thead>\n",
              "  <tbody>\n",
              "    <tr>\n",
              "      <th>0</th>\n",
              "      <td>MONK-1</td>\n",
              "      <td>0.0</td>\n",
              "      <td>0.171296</td>\n",
              "    </tr>\n",
              "    <tr>\n",
              "      <th>0</th>\n",
              "      <td>MONK-2</td>\n",
              "      <td>0.0</td>\n",
              "      <td>0.307870</td>\n",
              "    </tr>\n",
              "    <tr>\n",
              "      <th>0</th>\n",
              "      <td>MONK-3</td>\n",
              "      <td>0.0</td>\n",
              "      <td>0.055556</td>\n",
              "    </tr>\n",
              "  </tbody>\n",
              "</table>\n",
              "</div>"
            ],
            "text/plain": [
              "  Dataset  Error (train)  Error (test)\n",
              "0  MONK-1            0.0      0.171296\n",
              "0  MONK-2            0.0      0.307870\n",
              "0  MONK-3            0.0      0.055556"
            ]
          },
          "metadata": {
            "tags": []
          },
          "execution_count": 6
        }
      ]
    },
    {
      "cell_type": "markdown",
      "metadata": {
        "id": "H2APnLnQERzx",
        "colab_type": "text"
      },
      "source": [
        "# Assignment 7:\n",
        "\n",
        "Evaluate the effect pruning has on the test error for\n",
        "the monk1 and monk3 datasets, in particular determine the optimal\n",
        "partition into training and pruning by optimizing the parameter\n",
        "fraction. Plot the classification error on the test sets as a function\n",
        "of the parameter fraction ∈ {0.3, 0.4, 0.5, 0.6, 0.7, 0.8}.\n",
        "\n",
        "Note that the split of the data is random. We therefore need to\n",
        "compute the statistics over several runs of the split to be able to draw\n",
        "any conclusions. Reasonable statistics includes mean and a measure\n",
        "of the spread. Do remember to print axes labels, legends and data\n",
        "points as you will not pass without them."
      ]
    },
    {
      "cell_type": "code",
      "metadata": {
        "id": "zni5zp1iEY7p",
        "colab_type": "code",
        "colab": {
          "base_uri": "https://localhost:8080/",
          "height": 692
        },
        "outputId": "eb4e174d-cc77-4579-e82d-2cf504c6e1e3"
      },
      "source": [
        "# Shuffle and split the data up by a random percentage\n",
        "def partition(data, fraction):\n",
        "  ldata = list(data)\n",
        "  random.shuffle(ldata)\n",
        "  breakPoint = int(len(ldata) * fraction)\n",
        "  return ldata[:breakPoint], ldata[breakPoint:]\n",
        "\n",
        "\n",
        "# Prune the trees\n",
        "def prune_trees(data, test):\n",
        "  fractions = [0.3, 0.4, 0.5, 0.6, 0.7, 0.8]\n",
        "  pruned = []\n",
        "\n",
        "  for fraction in fractions:\n",
        "    train, validate = partition(data, fraction)\n",
        "    tree = d.buildTree(train, m.attributes)\n",
        "    forest = d.allPruned(tree)\n",
        "    best_perf = d.check(tree, validate)\n",
        "\n",
        "    temp_tree = 0\n",
        "    best_tree = tree\n",
        "\n",
        "    for t in forest:\n",
        "      temp_perf = d.check(t, validate)\n",
        "      if best_perf < temp_perf:\n",
        "        best_perf = temp_perf\n",
        "        best_tree = t\n",
        "\n",
        "    pruned.append(1 - d.check(best_tree, test))\n",
        "\n",
        "  return pruned\n",
        "\n",
        "\n",
        "# Evaluation of pruning\n",
        "# Will print out mean and std for each dataset,\n",
        "# along with plotting the error for each dataset.\n",
        "def evaluate_pruning():\n",
        "  fractions = [0.3, 0.4, 0.5, 0.6, 0.7, 0.8]\n",
        "  monk1_pruned = []\n",
        "  monk3_pruned = []\n",
        "\n",
        "  for i in range(100):\n",
        "    monk1_pruned.append(prune_trees(m.monk1, m.monk1test))\n",
        "    monk3_pruned.append(prune_trees(m.monk3, m.monk3test))\n",
        "\n",
        "  monk1_pruned = np.transpose(monk1_pruned)\n",
        "  monk3_pruned = np.transpose(monk3_pruned)\n",
        "\n",
        "  mean1 = np.mean(monk1_pruned, axis=1)\n",
        "  mean3 = np.mean(monk3_pruned, axis=1)\n",
        "  std1 = np.std(monk1_pruned, axis=1)\n",
        "  std3 = np.std(monk3_pruned, axis=1)\n",
        "\n",
        "  print(\"MONK-1; a1, a2, a3, a4, a5, a6\" +\\\n",
        "        \"\\nMean: \" + str(mean1) + \"\\nStd: \" + str(std1) + \\\n",
        "        \"\\n\\nMONK-3; a1, a2, a3, a4, a5, a6\" +\\\n",
        "        \"\\nMean: \" + str(mean3) + \"\\nStd: \" + str(std3))\n",
        "\n",
        "  complete_tree1 = d.buildTree(m.monk1, m.attributes)\n",
        "  complete_tree3 = d.buildTree(m.monk3, m.attributes)\n",
        "\n",
        "  plt.plot(fractions, mean1, color='#49abc2', marker='o', label=\"Means\")\n",
        "  plt.title(\"Mean Error vs Fractions on MONK-1\")\n",
        "  plt.xlabel(\"Fractions\")\n",
        "  plt.ylabel(\"Means of Error\")\n",
        "  plt.legend(loc='upper right', frameon=False)\n",
        "  plt.show()\n",
        "\n",
        "  plt.plot(fractions, mean3, color='#fe5f55', marker='o', label=\"Means\")\n",
        "  plt.title(\"Mean Error vs Fractions on MONK-3\")\n",
        "  plt.xlabel(\"Fractions\")\n",
        "  plt.ylabel(\"Means of Error\")\n",
        "  plt.legend(loc='upper right', frameon=False)\n",
        "  plt.show()\n",
        "\n",
        "\n",
        "evaluate_pruning()"
      ],
      "execution_count": 7,
      "outputs": [
        {
          "output_type": "stream",
          "text": [
            "MONK-1; a1, a2, a3, a4, a5, a6\n",
            "Mean: [0.23168981 0.20645833 0.17798611 0.15300926 0.14296296 0.14428241]\n",
            "Std: [0.04389135 0.04790235 0.04308901 0.04318169 0.04493976 0.05118835]\n",
            "\n",
            "MONK-3; a1, a2, a3, a4, a5, a6\n",
            "Mean: [0.08837963 0.07520833 0.06310185 0.05159722 0.05539352 0.0512963 ]\n",
            "Std: [0.05636788 0.04518516 0.0342571  0.02766237 0.03045764 0.02912387]\n"
          ],
          "name": "stdout"
        },
        {
          "output_type": "display_data",
          "data": {
            "image/png": "[encoded data removed]",
            "text/plain": [
              "<Figure size 432x288 with 1 Axes>"
            ]
          },
          "metadata": {
            "tags": []
          }
        },
        {
          "output_type": "display_data",
          "data": {
            "image/png": "[encoded data removed]",
            "text/plain": [
              "<Figure size 432x288 with 1 Axes>"
            ]
          },
          "metadata": {
            "tags": []
          }
        }
      ]
    }
  ]
}
